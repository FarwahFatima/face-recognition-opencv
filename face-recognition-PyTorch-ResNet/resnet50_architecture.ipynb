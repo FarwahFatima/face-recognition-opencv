{
  "nbformat": 4,
  "nbformat_minor": 0,
  "metadata": {
    "colab": {
      "provenance": [],
      "gpuType": "T4"
    },
    "kernelspec": {
      "name": "python3",
      "display_name": "Python 3"
    },
    "language_info": {
      "name": "python"
    },
    "accelerator": "GPU"
  },
  "cells": [
    {
      "cell_type": "code",
      "source": [
        "import torch\n",
        "import torchvision"
      ],
      "metadata": {
        "id": "hm9YJAl4sNKn"
      },
      "execution_count": null,
      "outputs": []
    },
    {
      "cell_type": "code",
      "execution_count": null,
      "metadata": {
        "id": "C1QQUEz2q66m"
      },
      "outputs": [],
      "source": [
        "import torchvision.transforms as transforms\n",
        "from torchvision.datasets import ImageFolder\n",
        "from torch.utils.data import DataLoader, random_split\n",
        "\n",
        "path = \"/content/drive/MyDrive/images1\"\n",
        "\n",
        "transform = transforms.Compose([\n",
        "    transforms.Resize((224, 224)),\n",
        "    transforms.ToTensor(),\n",
        "    transforms.Normalize(mean=[0.485, 0.456, 0.406], std=[0.229, 0.224, 0.225])\n",
        "])\n",
        "\n",
        "dataset = ImageFolder(root=path, transform=transform)\n",
        "\n",
        "train_size = int(0.8 * len(dataset))\n",
        "test_size = len(dataset) - train_size\n",
        "\n",
        "train_dataset, test_dataset = random_split(dataset, [train_size, test_size])\n",
        "train_loader = DataLoader(train_dataset, batch_size=16, shuffle=True)\n",
        "test_loader = DataLoader(test_dataset, batch_size=16, shuffle=False)\n"
      ]
    },
    {
      "cell_type": "code",
      "source": [
        "len(test_dataset)"
      ],
      "metadata": {
        "id": "O7BcaQSqsYp7",
        "colab": {
          "base_uri": "https://localhost:8080/"
        },
        "outputId": "d1a32360-4b52-48a2-acea-1d1d794820ae"
      },
      "execution_count": null,
      "outputs": [
        {
          "output_type": "execute_result",
          "data": {
            "text/plain": [
              "64"
            ]
          },
          "metadata": {},
          "execution_count": 18
        }
      ]
    },
    {
      "cell_type": "code",
      "source": [
        "import torchvision.models as models\n",
        "\n",
        "resnet_ = models.resnet50(pretrained=True)"
      ],
      "metadata": {
        "id": "ZHgd_KOKlXGH"
      },
      "execution_count": null,
      "outputs": []
    },
    {
      "cell_type": "code",
      "source": [
        "for param in resnet_.parameters():\n",
        "  param.requires_grad = False\n",
        "classes = len(dataset)\n",
        "resnet_.fc = torch.nn.Linear(in_features=resnet_.fc.in_features, out_features=classes)"
      ],
      "metadata": {
        "id": "BKhV4lOXoEHk"
      },
      "execution_count": null,
      "outputs": []
    },
    {
      "cell_type": "code",
      "source": [
        "criterion = torch.nn.CrossEntropyLoss()\n",
        "optimizer = torch.optim.Adam(resnet_.fc.parameters(), lr=0.0001)"
      ],
      "metadata": {
        "id": "72vSYALKo6Ck"
      },
      "execution_count": null,
      "outputs": []
    },
    {
      "cell_type": "code",
      "source": [
        "num_epochs = 10\n",
        "\n",
        "for epoch in range(num_epochs):\n",
        "    resnet_.train()\n",
        "    loss_running = 0\n",
        "    correct = 0\n",
        "    total = 0\n",
        "\n",
        "    for img, label in train_loader:\n",
        "        optimizer.zero_grad()  # Zero the gradients\n",
        "        forward = resnet_(img)\n",
        "        # No need to modify the label tensor here\n",
        "        loss = criterion(forward, label)\n",
        "        loss.backward()\n",
        "        optimizer.step()\n",
        "\n",
        "        _, predicted = torch.max(forward.data, 1)\n",
        "        total += label.size(0)\n",
        "        correct += (predicted == label).sum().item()\n",
        "        loss_running += loss.item()\n",
        "\n",
        "    training_loss = loss_running / len(train_loader)\n",
        "    accuracy = correct / total\n",
        "\n",
        "    # Evaluation on test set\n",
        "    resnet_.eval()\n",
        "    with torch.no_grad():\n",
        "        correct_test = 0\n",
        "        total_test = 0\n",
        "        for images, labels in test_loader:\n",
        "            outputs = resnet_(images)\n",
        "            _, predicted = torch.max(outputs.data, 1)\n",
        "            total_test += labels.size(0)\n",
        "            correct_test += (predicted == labels).sum().item()\n",
        "\n",
        "    test_accuracy = correct_test / total_test\n",
        "    print(f'Epoch {epoch+1}/{num_epochs}, Train Loss: {training_loss:.4f}, Train Accuracy: {100 * accuracy:.2f}%, Test Accuracy: {100 * test_accuracy:.2f}%')\n"
      ],
      "metadata": {
        "colab": {
          "base_uri": "https://localhost:8080/",
          "height": 0
        },
        "id": "gkwQNQ0Dplke",
        "outputId": "323fa542-0ae2-4853-9aae-62e49a3c31e1"
      },
      "execution_count": 25,
      "outputs": [
        {
          "output_type": "stream",
          "name": "stdout",
          "text": [
            "Epoch 1/10, Train Loss: 0.6628, Train Accuracy: 60.94%, Test Accuracy: 56.25%\n",
            "Epoch 2/10, Train Loss: 0.6621, Train Accuracy: 60.55%, Test Accuracy: 78.12%\n",
            "Epoch 3/10, Train Loss: 0.6400, Train Accuracy: 61.33%, Test Accuracy: 65.62%\n",
            "Epoch 4/10, Train Loss: 0.5968, Train Accuracy: 75.00%, Test Accuracy: 81.25%\n",
            "Epoch 5/10, Train Loss: 0.5834, Train Accuracy: 78.91%, Test Accuracy: 70.31%\n",
            "Epoch 6/10, Train Loss: 0.5610, Train Accuracy: 74.61%, Test Accuracy: 81.25%\n",
            "Epoch 7/10, Train Loss: 0.5403, Train Accuracy: 81.25%, Test Accuracy: 89.06%\n",
            "Epoch 8/10, Train Loss: 0.5268, Train Accuracy: 79.69%, Test Accuracy: 85.94%\n",
            "Epoch 9/10, Train Loss: 0.5057, Train Accuracy: 85.55%, Test Accuracy: 87.50%\n",
            "Epoch 10/10, Train Loss: 0.4980, Train Accuracy: 81.64%, Test Accuracy: 87.50%\n"
          ]
        }
      ]
    },
    {
      "cell_type": "code",
      "source": [
        "torch.save(resnet_.state_dict(), \"resnet_face_recognition.pth\")"
      ],
      "metadata": {
        "id": "8n-yW76sqvw2"
      },
      "execution_count": 26,
      "outputs": []
    },
    {
      "cell_type": "code",
      "source": [
        "dataset.classes"
      ],
      "metadata": {
        "id": "VXDHx-eNqsx5",
        "colab": {
          "base_uri": "https://localhost:8080/",
          "height": 0
        },
        "outputId": "0e96fca4-e0f5-414e-b300-da71ba7a5ab3"
      },
      "execution_count": 27,
      "outputs": [
        {
          "output_type": "execute_result",
          "data": {
            "text/plain": [
              "['messi', 'ronaldo']"
            ]
          },
          "metadata": {},
          "execution_count": 27
        }
      ]
    },
    {
      "cell_type": "code",
      "source": [],
      "metadata": {
        "id": "5jEgsHku_fFb"
      },
      "execution_count": null,
      "outputs": []
    }
  ]
}